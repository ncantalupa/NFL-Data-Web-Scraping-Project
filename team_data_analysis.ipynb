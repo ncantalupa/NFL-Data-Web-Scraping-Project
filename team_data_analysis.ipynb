{
 "cells": [
  {
   "cell_type": "markdown",
   "metadata": {},
   "source": [
    "## Overview\n",
    "This script analyzes how NFL offenses have changed over time, and attempts to analyze different trends in how different stats can be impact a teams record. The was collected from NFL Reference using web scraping techniques in Python such as BeatifulSoup and Selenium web drivers."
   ]
  },
  {
   "cell_type": "markdown",
   "metadata": {},
   "source": [
    "Loading Team Data from JSON File"
   ]
  },
  {
   "cell_type": "code",
   "execution_count": 2,
   "metadata": {},
   "outputs": [],
   "source": [
    "import json\n",
    "\n",
    "data_file = 'team_stats_2003_2022.json'\n",
    "with open(data_file, 'r') as in_file:\n",
    "    team_data_dict = json.load(in_file)"
   ]
  },
  {
   "cell_type": "markdown",
   "metadata": {},
   "source": [
    "Passing to Rushing Ratio over last 20 years"
   ]
  },
  {
   "cell_type": "code",
   "execution_count": null,
   "metadata": {},
   "outputs": [],
   "source": [
    "import seaborn as sns\n",
    "import matplotlib.pyplot as plt\n",
    "import pandas as pd\n",
    "import matplotlib.dates as mdates\n",
    "\n",
    "years = list(range(2003, 2023))\n",
    "pass_to_rush_yds_ratio = []\n",
    "for year in team_data_dict:\n",
    "    total_passing_yards = 0\n",
    "    total_rushing_yards = 0\n",
    "    team_yds_ratio = []\n",
    "    for team in team_data_dict[year]:\n",
    "        team_yds_ratio.append(float(team_data_dict[year][team][\"pass_yds\"])/float(team_data_dict[year][team][\"rush_yds\"]))\n",
    "    pass_to_rush_yds_ratio.append(sum(team_yds_ratio)/len(team_yds_ratio))\n",
    "df = pd.DataFrame({\"Years\": years, \"Pass:Rush Yds Ratio\": pass_to_rush_yds_ratio})\n",
    "df['Years'] = pd.to_datetime(df['Years'], format='%Y')\n",
    "\n",
    "sns.set(style=\"whitegrid\")\n",
    "sns.lineplot(x=\"Years\", y=\"Pass:Rush Yds Ratio\", data=df, linewidth=2.5, marker='o', color='blue')\n",
    "plt.title('Passing to Rushing Yard Ratio by Year', fontsize=15)\n",
    "plt.xlabel('Year', fontsize=12)\n",
    "plt.ylabel('Avg Pass:Rushing Yds', fontsize=12)\n",
    "plt.gca().xaxis.set_major_formatter(mdates.DateFormatter('%Y'))\n",
    "plt.gca().xaxis.set_major_locator(mdates.YearLocator())\n",
    "plt.xticks(rotation=45)\n",
    "plt.show()"
   ]
  },
  {
   "cell_type": "code",
   "execution_count": null,
   "metadata": {},
   "outputs": [],
   "source": [
    "import statsmodels.api as sm \n",
    "\n",
    "plt.clf()\n",
    "\n",
    "team_yds_ratio = []\n",
    "team_win_perc = []\n",
    "team_year = []\n",
    "for year in team_data_dict:\n",
    "    for team in team_data_dict[year]:\n",
    "        team_yds_ratio.append(float(team_data_dict[year][team][\"pass_yds\"])/float(team_data_dict[year][team][\"rush_yds\"]))\n",
    "        team_win_perc.append(float(team_data_dict[year][team][\"win_loss_perc\"]))\n",
    "        team_year.append(f\"{year} {team}\")\n",
    "df = pd.DataFrame({\"Team\": team_year, \"Pass:Rush Yds\": team_yds_ratio, \"Win %\": team_win_perc})        \n",
    "X = sm.add_constant(df[\"Pass:Rush Yds\"])\n",
    "model = sm.OLS(df[\"Win %\"], X)\n",
    "results = model.fit()\n",
    "\n",
    "print(results.summary())\n",
    "\n",
    "sns.set(style=\"whitegrid\")\n",
    "sns.scatterplot(x=\"Pass:Rush Yds\", y=\"Win %\", data=df, color='blue')\n",
    "plt.title('Pass:Rush vs Win Percentage', fontsize=15)\n",
    "plt.xlabel('Pass:Rush Yds', fontsize=12)\n",
    "plt.ylabel('Win %', fontsize=12)\n",
    "plt.xticks(rotation=45)\n",
    "plt.show()"
   ]
  }
 ],
 "metadata": {
  "kernelspec": {
   "display_name": "base",
   "language": "python",
   "name": "python3"
  },
  "language_info": {
   "codemirror_mode": {
    "name": "ipython",
    "version": 3
   },
   "file_extension": ".py",
   "mimetype": "text/x-python",
   "name": "python",
   "nbconvert_exporter": "python",
   "pygments_lexer": "ipython3",
   "version": "3.9.18"
  }
 },
 "nbformat": 4,
 "nbformat_minor": 2
}
